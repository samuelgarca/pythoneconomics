{
 "cells": [
  {
   "cell_type": "code",
   "execution_count": 1,
   "metadata": {},
   "outputs": [],
   "source": [
    "import numpy as np\n",
    "import pandas as pd"
   ]
  },
  {
   "cell_type": "code",
   "execution_count": 2,
   "metadata": {},
   "outputs": [],
   "source": [
    "labels = ['a','b','c']"
   ]
  },
  {
   "cell_type": "code",
   "execution_count": 3,
   "metadata": {},
   "outputs": [],
   "source": [
    "lista = [10, 20, 30]          #lista\n",
    "arr = np.array([10, 20, 30])  #array\n",
    "d = {'a':10, 'b':20, 'c':30}  #dicionário"
   ]
  },
  {
   "cell_type": "code",
   "execution_count": 4,
   "metadata": {},
   "outputs": [
    {
     "data": {
      "text/plain": [
       "a    10\n",
       "b    20\n",
       "c    30\n",
       "dtype: int64"
      ]
     },
     "execution_count": 4,
     "metadata": {},
     "output_type": "execute_result"
    }
   ],
   "source": [
    "pd.Series(data=lista,index=labels) #Criando Uma Série"
   ]
  },
  {
   "cell_type": "code",
   "execution_count": 5,
   "metadata": {},
   "outputs": [
    {
     "data": {
      "text/plain": [
       "a    10\n",
       "b    20\n",
       "c    30\n",
       "dtype: int64"
      ]
     },
     "execution_count": 5,
     "metadata": {},
     "output_type": "execute_result"
    }
   ],
   "source": [
    "pd.Series(lista, labels)"
   ]
  },
  {
   "cell_type": "code",
   "execution_count": 6,
   "metadata": {},
   "outputs": [],
   "source": [
    "serie1 = pd.Series([1, 2, 3, 4], index=['EUA','ALEMANHA','URRS','JAPAO'])"
   ]
  },
  {
   "cell_type": "code",
   "execution_count": 7,
   "metadata": {},
   "outputs": [
    {
     "data": {
      "text/plain": [
       "EUA         1\n",
       "ALEMANHA    2\n",
       "URRS        3\n",
       "JAPAO       4\n",
       "dtype: int64"
      ]
     },
     "execution_count": 7,
     "metadata": {},
     "output_type": "execute_result"
    }
   ],
   "source": [
    "serie1"
   ]
  },
  {
   "cell_type": "code",
   "execution_count": 8,
   "metadata": {},
   "outputs": [],
   "source": [
    "serie2 = pd.Series([1, 2, 3, 4], index=['EUA','ALEMANHA','italia','JAPAO'])"
   ]
  },
  {
   "cell_type": "code",
   "execution_count": 9,
   "metadata": {},
   "outputs": [
    {
     "data": {
      "text/plain": [
       "EUA         1\n",
       "ALEMANHA    2\n",
       "italia      3\n",
       "JAPAO       4\n",
       "dtype: int64"
      ]
     },
     "execution_count": 9,
     "metadata": {},
     "output_type": "execute_result"
    }
   ],
   "source": [
    "serie2"
   ]
  },
  {
   "cell_type": "code",
   "execution_count": 10,
   "metadata": {},
   "outputs": [
    {
     "data": {
      "text/plain": [
       "ALEMANHA    4.0\n",
       "EUA         2.0\n",
       "JAPAO       8.0\n",
       "URRS        NaN\n",
       "italia      NaN\n",
       "dtype: float64"
      ]
     },
     "execution_count": 10,
     "metadata": {},
     "output_type": "execute_result"
    }
   ],
   "source": [
    "serie1 + serie2 #SOMA OS VALORES DOS DADOS REFERENTE A LABEL"
   ]
  },
  {
   "cell_type": "code",
   "execution_count": 11,
   "metadata": {},
   "outputs": [],
   "source": [
    "np.random.seed(1234)\n",
    "df = pd.DataFrame(np.random.randn(10, 4),\n",
    "                  columns=['Col1', 'Col2', 'Col3', 'Col4'])"
   ]
  },
  {
   "cell_type": "code",
   "execution_count": 12,
   "metadata": {},
   "outputs": [
    {
     "name": "stdout",
     "output_type": "stream",
     "text": [
      "       Col1      Col2      Col3      Col4\n",
      "0  0.471435 -1.190976  1.432707 -0.312652\n",
      "1 -0.720589  0.887163  0.859588 -0.636524\n",
      "2  0.015696 -2.242685  1.150036  0.991946\n",
      "3  0.953324 -2.021255 -0.334077  0.002118\n",
      "4  0.405453  0.289092  1.321158 -1.546906\n",
      "5 -0.202646 -0.655969  0.193421  0.553439\n",
      "6  1.318152 -0.469305  0.675554 -1.817027\n",
      "7 -0.183109  1.058969 -0.397840  0.337438\n",
      "8  1.047579  1.045938  0.863717 -0.122092\n",
      "9  0.124713 -0.322795  0.841675  2.390961\n"
     ]
    }
   ],
   "source": [
    "print(df)"
   ]
  },
  {
   "cell_type": "code",
   "execution_count": 13,
   "metadata": {},
   "outputs": [
    {
     "data": {
      "image/png": "[encoded data removed]",
      "text/plain": [
       "<Figure size 432x288 with 1 Axes>"
      ]
     },
     "metadata": {
      "needs_background": "light"
     },
     "output_type": "display_data"
    }
   ],
   "source": [
    "boxplot = df.boxplot(column=['Col1', 'Col2', 'Col3'])"
   ]
  },
  {
   "cell_type": "code",
   "execution_count": 14,
   "metadata": {},
   "outputs": [
    {
     "data": {
      "text/html": [
       "<div>\n",
       "<style scoped>\n",
       "    .dataframe tbody tr th:only-of-type {\n",
       "        vertical-align: middle;\n",
       "    }\n",
       "\n",
       "    .dataframe tbody tr th {\n",
       "        vertical-align: top;\n",
       "    }\n",
       "\n",
       "    .dataframe thead th {\n",
       "        text-align: right;\n",
       "    }\n",
       "</style>\n",
       "<table border=\"1\" class=\"dataframe\">\n",
       "  <thead>\n",
       "    <tr style=\"text-align: right;\">\n",
       "      <th></th>\n",
       "      <th>0</th>\n",
       "      <th>1</th>\n",
       "      <th>2</th>\n",
       "    </tr>\n",
       "  </thead>\n",
       "  <tbody>\n",
       "    <tr>\n",
       "      <th>0</th>\n",
       "      <td>2º trimestre 2010 115</td>\n",
       "      <td>60 127</td>\n",
       "      <td>50 81</td>\n",
       "    </tr>\n",
       "    <tr>\n",
       "      <th>1</th>\n",
       "      <td>3º trimestre 2010 123</td>\n",
       "      <td>83 137</td>\n",
       "      <td>67 76</td>\n",
       "    </tr>\n",
       "    <tr>\n",
       "      <th>2</th>\n",
       "      <td>4º trimestre 2010 121</td>\n",
       "      <td>20 139</td>\n",
       "      <td>53 81</td>\n",
       "    </tr>\n",
       "    <tr>\n",
       "      <th>3</th>\n",
       "      <td>1º trimestre 2011 109</td>\n",
       "      <td>97 134</td>\n",
       "      <td>77 74</td>\n",
       "    </tr>\n",
       "    <tr>\n",
       "      <th>4</th>\n",
       "      <td>2º trimestre 2011 100</td>\n",
       "      <td>43 130</td>\n",
       "      <td>70 65</td>\n",
       "    </tr>\n",
       "    <tr>\n",
       "      <th>5</th>\n",
       "      <td>3º trimestre 2011 104</td>\n",
       "      <td>30 128</td>\n",
       "      <td>73 68</td>\n",
       "    </tr>\n",
       "    <tr>\n",
       "      <th>6</th>\n",
       "      <td>4º trimestre 2011 102</td>\n",
       "      <td>80 127</td>\n",
       "      <td>13 68</td>\n",
       "    </tr>\n",
       "    <tr>\n",
       "      <th>7</th>\n",
       "      <td>1º trimestre 2012 102</td>\n",
       "      <td>80 127</td>\n",
       "      <td>60 72</td>\n",
       "    </tr>\n",
       "    <tr>\n",
       "      <th>8</th>\n",
       "      <td>2º trimestre 2012 111</td>\n",
       "      <td>13 129</td>\n",
       "      <td>50 72</td>\n",
       "    </tr>\n",
       "    <tr>\n",
       "      <th>9</th>\n",
       "      <td>3º trimestre 2012 109</td>\n",
       "      <td>13 126</td>\n",
       "      <td>17 73</td>\n",
       "    </tr>\n",
       "    <tr>\n",
       "      <th>10</th>\n",
       "      <td>4º trimestre 2012 110</td>\n",
       "      <td>83 133</td>\n",
       "      <td>47 73</td>\n",
       "    </tr>\n",
       "    <tr>\n",
       "      <th>11</th>\n",
       "      <td>1º trimestre 2013 107</td>\n",
       "      <td>00 130</td>\n",
       "      <td>17 75</td>\n",
       "    </tr>\n",
       "    <tr>\n",
       "      <th>12</th>\n",
       "      <td>2º trimestre 2013 106</td>\n",
       "      <td>07 126</td>\n",
       "      <td>53 67</td>\n",
       "    </tr>\n",
       "    <tr>\n",
       "      <th>13</th>\n",
       "      <td>3º trimestre 2013 101</td>\n",
       "      <td>07 117</td>\n",
       "      <td>80 52</td>\n",
       "    </tr>\n",
       "    <tr>\n",
       "      <th>14</th>\n",
       "      <td>4º trimestre 2013 106</td>\n",
       "      <td>93 120</td>\n",
       "      <td>97 52</td>\n",
       "    </tr>\n",
       "    <tr>\n",
       "      <th>15</th>\n",
       "      <td>1º trimestre 2014 99</td>\n",
       "      <td>60 121</td>\n",
       "      <td>00 48</td>\n",
       "    </tr>\n",
       "    <tr>\n",
       "      <th>16</th>\n",
       "      <td>2º trimestre 2014 98</td>\n",
       "      <td>25 113</td>\n",
       "      <td>32 41</td>\n",
       "    </tr>\n",
       "    <tr>\n",
       "      <th>17</th>\n",
       "      <td>3º trimestre 2014 99</td>\n",
       "      <td>73 115</td>\n",
       "      <td>93 45</td>\n",
       "    </tr>\n",
       "    <tr>\n",
       "      <th>18</th>\n",
       "      <td>4º trimestre 2014 103</td>\n",
       "      <td>90 117</td>\n",
       "      <td>23 51</td>\n",
       "    </tr>\n",
       "    <tr>\n",
       "      <th>19</th>\n",
       "      <td>1º trimestre 2015 88</td>\n",
       "      <td>40 102</td>\n",
       "      <td>13 24</td>\n",
       "    </tr>\n",
       "    <tr>\n",
       "      <th>20</th>\n",
       "      <td>2º trimestre 2015 91</td>\n",
       "      <td>37 96</td>\n",
       "      <td>83 20</td>\n",
       "    </tr>\n",
       "    <tr>\n",
       "      <th>21</th>\n",
       "      <td>3º trimestre 2015 95</td>\n",
       "      <td>20 103</td>\n",
       "      <td>23 20</td>\n",
       "    </tr>\n",
       "    <tr>\n",
       "      <th>22</th>\n",
       "      <td>4º trimestre 2015 94</td>\n",
       "      <td>07 104</td>\n",
       "      <td>53 18</td>\n",
       "    </tr>\n",
       "    <tr>\n",
       "      <th>23</th>\n",
       "      <td>1º trimestre 2016 97</td>\n",
       "      <td>63 106</td>\n",
       "      <td>00 18</td>\n",
       "    </tr>\n",
       "    <tr>\n",
       "      <th>24</th>\n",
       "      <td>2º trimestre 2016 112</td>\n",
       "      <td>40 115</td>\n",
       "      <td>37 27</td>\n",
       "    </tr>\n",
       "    <tr>\n",
       "      <th>25</th>\n",
       "      <td>3º trimestre 2016 111</td>\n",
       "      <td>07 114</td>\n",
       "      <td>47 26</td>\n",
       "    </tr>\n",
       "    <tr>\n",
       "      <th>26</th>\n",
       "      <td>4º trimestre 2016 109</td>\n",
       "      <td>03 112</td>\n",
       "      <td>60 23</td>\n",
       "    </tr>\n",
       "    <tr>\n",
       "      <th>27</th>\n",
       "      <td>1º trimestre 2017 110</td>\n",
       "      <td>27 115</td>\n",
       "      <td>60 17</td>\n",
       "    </tr>\n",
       "    <tr>\n",
       "      <th>28</th>\n",
       "      <td>2º trimestre 2017 109</td>\n",
       "      <td>23 113</td>\n",
       "      <td>77 10</td>\n",
       "    </tr>\n",
       "    <tr>\n",
       "      <th>29</th>\n",
       "      <td>3º trimestre 2017 104</td>\n",
       "      <td>00 108</td>\n",
       "      <td>87 6</td>\n",
       "    </tr>\n",
       "    <tr>\n",
       "      <th>30</th>\n",
       "      <td>4º trimestre 2017 106</td>\n",
       "      <td>60 116</td>\n",
       "      <td>27 9</td>\n",
       "    </tr>\n",
       "    <tr>\n",
       "      <th>31</th>\n",
       "      <td>1º trimestre 2018 108</td>\n",
       "      <td>97 116</td>\n",
       "      <td>93 8</td>\n",
       "    </tr>\n",
       "    <tr>\n",
       "      <th>32</th>\n",
       "      <td>2º trimestre 2018 106</td>\n",
       "      <td>03 111</td>\n",
       "      <td>90 6</td>\n",
       "    </tr>\n",
       "    <tr>\n",
       "      <th>33</th>\n",
       "      <td>3º trimestre 2018 110</td>\n",
       "      <td>27 118</td>\n",
       "      <td>33 5</td>\n",
       "    </tr>\n",
       "    <tr>\n",
       "      <th>34</th>\n",
       "      <td>4º trimestre 2018 131</td>\n",
       "      <td>17 138</td>\n",
       "      <td>93 7</td>\n",
       "    </tr>\n",
       "  </tbody>\n",
       "</table>\n",
       "</div>"
      ],
      "text/plain": [
       "                        0       1      2\n",
       "0   2º trimestre 2010 115  60 127  50 81\n",
       "1   3º trimestre 2010 123  83 137  67 76\n",
       "2   4º trimestre 2010 121  20 139  53 81\n",
       "3   1º trimestre 2011 109  97 134  77 74\n",
       "4   2º trimestre 2011 100  43 130  70 65\n",
       "5   3º trimestre 2011 104  30 128  73 68\n",
       "6   4º trimestre 2011 102  80 127  13 68\n",
       "7   1º trimestre 2012 102  80 127  60 72\n",
       "8   2º trimestre 2012 111  13 129  50 72\n",
       "9   3º trimestre 2012 109  13 126  17 73\n",
       "10  4º trimestre 2012 110  83 133  47 73\n",
       "11  1º trimestre 2013 107  00 130  17 75\n",
       "12  2º trimestre 2013 106  07 126  53 67\n",
       "13  3º trimestre 2013 101  07 117  80 52\n",
       "14  4º trimestre 2013 106  93 120  97 52\n",
       "15   1º trimestre 2014 99  60 121  00 48\n",
       "16   2º trimestre 2014 98  25 113  32 41\n",
       "17   3º trimestre 2014 99  73 115  93 45\n",
       "18  4º trimestre 2014 103  90 117  23 51\n",
       "19   1º trimestre 2015 88  40 102  13 24\n",
       "20   2º trimestre 2015 91   37 96  83 20\n",
       "21   3º trimestre 2015 95  20 103  23 20\n",
       "22   4º trimestre 2015 94  07 104  53 18\n",
       "23   1º trimestre 2016 97  63 106  00 18\n",
       "24  2º trimestre 2016 112  40 115  37 27\n",
       "25  3º trimestre 2016 111  07 114  47 26\n",
       "26  4º trimestre 2016 109  03 112  60 23\n",
       "27  1º trimestre 2017 110  27 115  60 17\n",
       "28  2º trimestre 2017 109  23 113  77 10\n",
       "29  3º trimestre 2017 104  00 108   87 6\n",
       "30  4º trimestre 2017 106  60 116   27 9\n",
       "31  1º trimestre 2018 108  97 116   93 8\n",
       "32  2º trimestre 2018 106  03 111   90 6\n",
       "33  3º trimestre 2018 110  27 118   33 5\n",
       "34  4º trimestre 2018 131  17 138   93 7"
      ]
     },
     "execution_count": 14,
     "metadata": {},
     "output_type": "execute_result"
    }
   ],
   "source": [
    "pd.read_csv('TEST.csv', header=None)"
   ]
  },
  {
   "cell_type": "code",
   "execution_count": 24,
   "metadata": {},
   "outputs": [
    {
     "ename": "AttributeError",
     "evalue": "'Workbook' object has no attribute 'nsheets'",
     "output_type": "error",
     "traceback": [
      "\u001b[1;31m---------------------------------------------------------------------------\u001b[0m",
      "\u001b[1;31mAttributeError\u001b[0m                            Traceback (most recent call last)",
      "\u001b[1;32m<ipython-input-24-9436ca32cdaa>\u001b[0m in \u001b[0;36m<module>\u001b[1;34m\u001b[0m\n\u001b[1;32m----> 1\u001b[1;33m \u001b[0mprint\u001b[0m \u001b[1;33m(\u001b[0m\u001b[1;34m\"Número de abas: \"\u001b[0m\u001b[1;33m,\u001b[0m \u001b[0marquivo_excel\u001b[0m\u001b[1;33m.\u001b[0m\u001b[0mnsheets\u001b[0m\u001b[1;33m)\u001b[0m\u001b[1;33m\u001b[0m\u001b[1;33m\u001b[0m\u001b[0m\n\u001b[0m\u001b[0;32m      2\u001b[0m \u001b[0mprint\u001b[0m \u001b[1;33m(\u001b[0m\u001b[1;34m\"Nomes das Planilhas:\"\u001b[0m\u001b[1;33m,\u001b[0m \u001b[0marquivo_excel\u001b[0m\u001b[1;33m.\u001b[0m\u001b[0msheet_names\u001b[0m\u001b[1;33m(\u001b[0m\u001b[1;33m)\u001b[0m\u001b[1;33m)\u001b[0m\u001b[1;33m\u001b[0m\u001b[1;33m\u001b[0m\u001b[0m\n",
      "\u001b[1;31mAttributeError\u001b[0m: 'Workbook' object has no attribute 'nsheets'"
     ]
    }
   ],
   "source": []
  },
  {
   "cell_type": "code",
   "execution_count": null,
   "metadata": {},
   "outputs": [],
   "source": []
  }
 ],
 "metadata": {
  "kernelspec": {
   "display_name": "Python 3",
   "language": "python",
   "name": "python3"
  },
  "language_info": {
   "codemirror_mode": {
    "name": "ipython",
    "version": 3
   },
   "file_extension": ".py",
   "mimetype": "text/x-python",
   "name": "python",
   "nbconvert_exporter": "python",
   "pygments_lexer": "ipython3",
   "version": "3.8.3"
  }
 },
 "nbformat": 4,
 "nbformat_minor": 4
}
