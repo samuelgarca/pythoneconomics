{
 "cells": [
  {
   "cell_type": "code",
   "execution_count": 1,
   "metadata": {},
   "outputs": [],
   "source": [
    "import pandas as pd\n",
    "import tabula\n",
    "import csv\n",
    "\n"
   ]
  },
  {
   "cell_type": "code",
   "execution_count": 17,
   "metadata": {},
   "outputs": [
    {
     "name": "stdout",
     "output_type": "stream",
     "text": [
      "<class 'pandas.core.frame.DataFrame'>\n",
      "RangeIndex: 67901 entries, 0 to 67900\n",
      "Data columns (total 1 columns):\n",
      " #   Column                                                                                                                                                                                                                                                 Non-Null Count  Dtype \n",
      "---  ------                                                                                                                                                                                                                                                 --------------  ----- \n",
      " 0   00COTAHIST.2019BOVESPA 20191130                                                                                                                                                                                                                        67901 non-null  object\n",
      "dtypes: object(1)\n",
      "memory usage: 530.6+ KB\n"
     ]
    }
   ],
   "source": [
    "arquivo = tabula.read_pdf(\"Informe_Mensal_JSRE11.pdf\", pages=\"all\")\n",
    "df = pd.read_fwf('Acoe.txt')\n",
    "df2 = pd.read_csv('Acoe.txt', delimiter = \"\\t\")\n",
    "#pd.read_csv(\"tabela\") \n",
    "#print(arquivo)\n",
    "df2.head()\n",
    "df2.info()\n"
   ]
  },
  {
   "cell_type": "code",
   "execution_count": 18,
   "metadata": {},
   "outputs": [],
   "source": [
    "convert = tabula.convert_into(\"Informe_Mensal_JSRE11.pdf\", \"output.csv\", output_format=\"csv\", pages='all')\n",
    "Arquivo_csv = csv.reader(\"output.csv\", delimiter=',')\n"
   ]
  },
  {
   "cell_type": "code",
   "execution_count": 47,
   "metadata": {},
   "outputs": [
    {
     "name": "stdout",
     "output_type": "stream",
     "text": [
      "<_csv.reader object at 0x000001D2E03EA820>\n",
      "<_io.TextIOWrapper name='output.csv' mode='r' encoding='cp1252'>\n"
     ]
    }
   ],
   "source": [
    "#Arquivo_csv.__next__()\n",
    "\n",
    "print(Arquivo_csv)\n",
    "arquivo = open(\"output.csv\")\n",
    "\n",
    "print(arquivo)"
   ]
  },
  {
   "cell_type": "code",
   "execution_count": null,
   "metadata": {},
   "outputs": [],
   "source": []
  }
 ],
 "metadata": {
  "kernelspec": {
   "display_name": "Python 3",
   "language": "python",
   "name": "python3"
  },
  "language_info": {
   "codemirror_mode": {
    "name": "ipython",
    "version": 3
   },
   "file_extension": ".py",
   "mimetype": "text/x-python",
   "name": "python",
   "nbconvert_exporter": "python",
   "pygments_lexer": "ipython3",
   "version": "3.8.3"
  }
 },
 "nbformat": 4,
 "nbformat_minor": 4
}
